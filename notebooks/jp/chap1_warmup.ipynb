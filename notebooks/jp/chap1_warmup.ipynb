{
 "cells": [
  {
   "cell_type": "markdown",
   "id": "aada93ed-6ab0-48f6-b735-915b2c5a93e7",
   "metadata": {},
   "source": [
    "# 第1章: 準備運動"
   ]
  },
  {
   "cell_type": "markdown",
   "id": "6ab3281a-88db-473f-8ca5-9105bdb38b0b",
   "metadata": {},
   "source": [
    "## 00. 文字列の逆順\n",
    "\n",
    "文字列”stressed”の文字を逆に（末尾から先頭に向かって）並べた文字列を得よ．"
   ]
  },
  {
   "cell_type": "code",
   "execution_count": 2,
   "id": "3733d8cc-a24f-46f0-8a29-53aaf3d91c0f",
   "metadata": {},
   "outputs": [
    {
     "data": {
      "text/plain": [
       "\"desserts\""
      ]
     },
     "execution_count": 2,
     "metadata": {},
     "output_type": "execute_result"
    }
   ],
   "source": [
    "let s = \"stressed\".chars().rev().collect::<String>();\n",
    "s"
   ]
  },
  {
   "cell_type": "markdown",
   "id": "c6b6181f-8ef4-4b3c-bfd5-63b0167ec145",
   "metadata": {},
   "source": [
    "## 01. 「パタトクカシーー」\n",
    "\n",
    "「パタトクカシーー」という文字列の1,3,5,7文字目を取り出して連結した文字列を得よ．"
   ]
  },
  {
   "cell_type": "code",
   "execution_count": 3,
   "id": "04ddf750-56cc-4ee2-b4d4-4af30c8770f1",
   "metadata": {},
   "outputs": [
    {
     "data": {
      "text/plain": [
       "\"パトカー\""
      ]
     },
     "execution_count": 3,
     "metadata": {},
     "output_type": "execute_result"
    }
   ],
   "source": [
    "let s = \"パタトクカシーー\".chars().step_by(2).collect::<String>();\n",
    "s"
   ]
  },
  {
   "cell_type": "markdown",
   "id": "d480f6e9-e27f-47b0-a44d-697fbeaadd5d",
   "metadata": {},
   "source": [
    "## 02. 「パトカー」＋「タクシー」＝「パタトクカシーー」\n",
    "\n",
    "「パトカー」＋「タクシー」の文字を先頭から交互に連結して文字列「パタトクカシーー」を得よ．"
   ]
  },
  {
   "cell_type": "code",
   "execution_count": 4,
   "id": "a5d4d9f8-dbe2-4f3f-9658-25aea453f0be",
   "metadata": {},
   "outputs": [
    {
     "data": {
      "text/plain": [
       "\"パタトクカシーー\""
      ]
     },
     "execution_count": 4,
     "metadata": {},
     "output_type": "execute_result"
    }
   ],
   "source": [
    "let s = \"パトカー\".chars()\n",
    "    .zip(\"タクシー\".chars())\n",
    "    .map(|(p, t)| format!(\"{}{}\", p, t))\n",
    "    .collect::<String>();\n",
    "s"
   ]
  },
  {
   "cell_type": "markdown",
   "id": "5a6dce14-bfb3-4ec7-9ed8-2153015e0436",
   "metadata": {},
   "source": [
    "## 03. 円周率\n",
    "\n",
    "“Now I need a drink, alcoholic of course, after the heavy lectures involving quantum mechanics.”という文を単語に分解し，各単語の（アルファベットの）文字数を先頭から出現順に並べたリストを作成せよ．"
   ]
  },
  {
   "cell_type": "code",
   "execution_count": 5,
   "id": "de97bcec-8698-4f2f-ab49-964c374f8ccc",
   "metadata": {},
   "outputs": [
    {
     "data": {
      "text/plain": [
       "[3, 1, 4, 1, 5, 9, 2, 6, 5, 3, 5, 8, 9, 7, 9]"
      ]
     },
     "execution_count": 5,
     "metadata": {},
     "output_type": "execute_result"
    }
   ],
   "source": [
    "let sentence = \"Now I need a drink, alcoholic of course, after the heavy lectures involving quantum mechanics.\";\n",
    "\n",
    "let l = sentence\n",
    "    .split_whitespace()\n",
    "    .map(|word| word.chars().filter(|c| c.is_alphanumeric()).count())\n",
    "    .collect::<Vec<usize>>();\n",
    "l"
   ]
  },
  {
   "cell_type": "markdown",
   "id": "9f9030ba-2061-412d-b65d-6b956674d131",
   "metadata": {},
   "source": [
    "## 04. 元素記号\n",
    "\n",
    "“Hi He Lied Because Boron Could Not Oxidize Fluorine. New Nations Might Also Sign Peace Security Clause. Arthur King Can.”という文を単語に分解し，1, 5, 6, 7, 8, 9, 15, 16, 19番目の単語は先頭の1文字，それ以外の単語は先頭の2文字を取り出し，取り出した文字列から単語の位置（先頭から何番目の単語か）への連想配列（辞書型もしくはマップ型）を作成せよ．"
   ]
  },
  {
   "cell_type": "code",
   "execution_count": 6,
   "id": "b8e46e3b-873b-4b5d-aeb7-afff97d2d87f",
   "metadata": {},
   "outputs": [
    {
     "data": {
      "text/plain": [
       "{\"O\": 7, \"Pe\": 14, \"H\": 1, \"Be\": 3, \"Bo\": 4, \"F\": 8, \"C\": 19, \"Al\": 12, \"S\": 15, \"Hi\": 0, \"Li\": 2, \"N\": 9, \"Ki\": 18, \"Na\": 10, \"Mi\": 11, \"Ar\": 17, \"Si\": 13}"
      ]
     },
     "execution_count": 6,
     "metadata": {},
     "output_type": "execute_result"
    }
   ],
   "source": [
    "use std::collections::HashMap;\n",
    "\n",
    "let sentence = \"Hi He Lied Because Boron Could Not Oxidize Fluorine. New Nations Might Also Sign Peace Security Clause. Arthur King Can.\";\n",
    "let idx = vec![1, 5, 6, 7, 8, 9, 15, 16, 19];\n",
    "\n",
    "let m = sentence\n",
    "    .split_whitespace()\n",
    "    .enumerate()\n",
    "    .map(|(i, w)| (w.chars().take(if idx.contains(&i) { 1 } else { 2 }).collect::<String>(), i))\n",
    "    .collect::<HashMap<String, usize>>();\n",
    "m"
   ]
  },
  {
   "cell_type": "markdown",
   "id": "4ee66233-b537-4146-aaac-259612717fea",
   "metadata": {},
   "source": [
    "## 05. n-gram\n",
    "\n",
    "与えられたシーケンス（文字列やリストなど）からn-gramを作る関数を作成せよ．この関数を用い，”I am an NLPer”という文から単語bi-gram，文字bi-gramを得よ．"
   ]
  },
  {
   "cell_type": "code",
   "execution_count": 7,
   "id": "16e336ee-fa47-4e36-b63b-a9f5ff211f86",
   "metadata": {},
   "outputs": [
    {
     "name": "stdout",
     "output_type": "stream",
     "text": [
      "word bi-gram: [[\"I\", \"am\"], [\"am\", \"an\"], [\"an\", \"NLPer\"]]\n",
      "char bi-gram: [['I', ' '], [' ', 'a'], ['a', 'm'], ['m', ' '], [' ', 'a'], ['a', 'n'], ['n', ' '], [' ', 'N'], ['N', 'L'], ['L', 'P'], ['P', 'e'], ['e', 'r']]\n"
     ]
    }
   ],
   "source": [
    "fn word_ngram(sentence: String, n: usize) -> Vec<Vec<String>> {\n",
    "    sentence\n",
    "        .split_whitespace()\n",
    "        .collect::<Vec<&str>>()\n",
    "        .windows(n)\n",
    "        .map(|v| v.iter().map(|s| s.to_string()).collect::<Vec<_>>())\n",
    "        .collect::<Vec<Vec<String>>>()\n",
    "}\n",
    "\n",
    "fn char_ngram(sentence: String, n: usize) -> Vec<Vec<char>> {\n",
    "    sentence\n",
    "        .chars()\n",
    "        .collect::<Vec<char>>()\n",
    "        .windows(n)\n",
    "        .map(|a| a.to_vec())\n",
    "        .collect::<Vec<Vec<char>>>()\n",
    "}\n",
    "\n",
    "let sentence = \"I am an NLPer\";  \n",
    "\n",
    "println!(\"word bi-gram: {:?}\", word_ngram(sentence.to_string(), 2));\n",
    "println!(\"char bi-gram: {:?}\", char_ngram(sentence.to_string(), 2));"
   ]
  },
  {
   "cell_type": "markdown",
   "id": "eb5987f3-66a1-4e9c-b933-234e4684c6cf",
   "metadata": {},
   "source": [
    "## 06. 集合\n",
    "\n",
    "“paraparaparadise”と”paragraph”に含まれる文字bi-gramの集合を，それぞれ, XとYとして求め，XとYの和集合，積集合，差集合を求めよ．さらに，’se’というbi-gramがXおよびYに含まれるかどうかを調べよ．"
   ]
  },
  {
   "cell_type": "code",
   "execution_count": 8,
   "id": "2154a57f-a1eb-4540-928c-4b47246fb7fd",
   "metadata": {},
   "outputs": [
    {
     "name": "stdout",
     "output_type": "stream",
     "text": [
      "X ∪ Y = {['d', 'i'], ['p', 'h'], ['a', 'p'], ['r', 'a'], ['i', 's'], ['g', 'r'], ['s', 'e'], ['a', 'd'], ['a', 'g'], ['p', 'a'], ['a', 'r']}\n",
      "X ∩ Y = {['p', 'a'], ['a', 'r'], ['r', 'a'], ['a', 'p']}\n",
      "X - Y = {['a', 'd'], ['s', 'e'], ['i', 's'], ['d', 'i']}\n",
      "- - -\n",
      "Does X contain bi-gram `se`? -> Yes\n",
      "Does Y contain bi-gram `se`? -> No\n"
     ]
    },
    {
     "data": {
      "text/plain": [
       "()"
      ]
     },
     "execution_count": 8,
     "metadata": {},
     "output_type": "execute_result"
    }
   ],
   "source": [
    "use std::collections::HashSet;\n",
    "\n",
    "let word0 = \"paraparaparadise\";\n",
    "let word1 = \"paragraph\";\n",
    "\n",
    "let X = char_ngram(word0.to_string(), 2)\n",
    "    .into_iter()\n",
    "    .collect::<HashSet<Vec<char>>>();\n",
    "let Y = char_ngram(word1.to_string(), 2)\n",
    "    .into_iter()\n",
    "    .collect::<HashSet<Vec<char>>>();\n",
    "\n",
    "// Scoped for lifetime workaround\n",
    "{\n",
    "    let union = X.union(&Y).collect::<HashSet<_>>();\n",
    "    let intersection = X.intersection(&Y).collect::<HashSet<_>>();\n",
    "    let difference = X.difference(&Y).collect::<HashSet<_>>();\n",
    "    println!(\"X ∪ Y = {:?}\", union);\n",
    "    println!(\"X ∩ Y = {:?}\", intersection);\n",
    "    println!(\"X - Y = {:?}\", difference);\n",
    "    println!(\"- - -\");\n",
    "    println!(\"Does X contain bi-gram `se`? -> {}\", if X.contains(&vec!['s', 'e']) { \"Yes\" } else { \"No\" });\n",
    "    println!(\"Does Y contain bi-gram `se`? -> {}\", if Y.contains(&vec!['s', 'e']) { \"Yes\" } else { \"No\" });\n",
    "}"
   ]
  },
  {
   "cell_type": "markdown",
   "id": "cdec3306-b603-4624-a174-bc9f828e2cea",
   "metadata": {},
   "source": [
    "## 07. テンプレートによる文生成\n",
    "\n",
    "引数x, y, zを受け取り「x時のyはz」という文字列を返す関数を実装せよ．さらに，x=12, y=”気温”, z=22.4として，実行結果を確認せよ．"
   ]
  },
  {
   "cell_type": "code",
   "execution_count": 9,
   "id": "c83e443d-d207-470e-9078-a14b1aa0e70c",
   "metadata": {},
   "outputs": [
    {
     "data": {
      "text/plain": [
       "\"12時の気温は22.4\""
      ]
     },
     "execution_count": 9,
     "metadata": {},
     "output_type": "execute_result"
    }
   ],
   "source": [
    "use std::fmt::Display;\n",
    "\n",
    "fn format_notification<T, U, V>(x: T, y: U, z: V) -> String\n",
    "where\n",
    "    T: Display,\n",
    "    U: Display,\n",
    "    V: Display,\n",
    "{\n",
    "    format!(\"{}時の{}は{}\", x, y, z)\n",
    "}\n",
    "\n",
    "let (x, y, z) = (12, \"気温\", 22.4);\n",
    "format_notification(x, y, z)"
   ]
  },
  {
   "cell_type": "markdown",
   "id": "6e2292a8-e1b6-4846-b4e6-80639c0c241d",
   "metadata": {},
   "source": [
    "## 08. 暗号文\n",
    "\n",
    "与えられた文字列の各文字を，以下の仕様で変換する関数cipherを実装せよ．\n",
    "\n",
    "- 英小文字ならば(219 - 文字コード)の文字に置換\n",
    "- その他の文字はそのまま出力\n",
    "\n",
    "この関数を用い，英語のメッセージを暗号化・復号化せよ．"
   ]
  },
  {
   "cell_type": "code",
   "execution_count": 10,
   "id": "9efd823b-c8a0-49c1-a744-7969750dd7d0",
   "metadata": {},
   "outputs": [
    {
     "data": {
      "text/plain": [
       "\"NLP 100 Ecvixrhv rh z yllgxznk wvhrtmvw uli ovzimrmt hprooh uli kiltiznnrmt, wzgz zmzobhrh, zmw ivhvzixs zxgrergrvh yb gzprmt kizxgrxzo zmw vcxrgrmt zhhrtmnvmgh.\""
      ]
     },
     "execution_count": 10,
     "metadata": {},
     "output_type": "execute_result"
    }
   ],
   "source": [
    "fn cipher(plaintext: String) -> String {\n",
    "    plaintext\n",
    "        .chars()\n",
    "        .map(|c|\n",
    "            if c.is_ascii_lowercase() {\n",
    "                String::from_utf8(vec![219 - u8::try_from(c).unwrap()]).unwrap()\n",
    "            } else {\n",
    "                c.to_string()\n",
    "            })\n",
    "        .collect::<String>()\n",
    "}\n",
    "\n",
    "let example: &str = \"NLP 100 Exercise is a bootcamp designed for learning skills for programming, data analysis, and research activities by taking practical and exciting assignments.\";\n",
    "\n",
    "cipher(example.to_string())"
   ]
  },
  {
   "cell_type": "markdown",
   "id": "2a296760-bbb5-4985-9df3-3b893e090749",
   "metadata": {},
   "source": [
    "## 09. Typoglycemia\n",
    "\n",
    "スペースで区切られた単語列に対して，各単語の先頭と末尾の文字は残し，それ以外の文字の順序をランダムに並び替えるプログラムを作成せよ．ただし，長さが４以下の単語は並び替えないこととする．適当な英語の文（例えば”I couldn’t believe that I could actually understand what I was reading : the phenomenal power of the human mind .”）を与え，その実行結果を確認せよ．"
   ]
  },
  {
   "cell_type": "code",
   "execution_count": 11,
   "id": "eb7f094e-db43-44cc-ade4-92a5ecd95de5",
   "metadata": {},
   "outputs": [
    {
     "data": {
      "text/plain": [
       "\"I clnoud't bvielee that I cuold atllucay untaensdrd what I was rainedg : the peeanhmonl pwoer of the hmuan mind .\""
      ]
     },
     "execution_count": 11,
     "metadata": {},
     "output_type": "execute_result"
    }
   ],
   "source": [
    ":dep rand = \"0.8.5\"\n",
    "\n",
    "use rand::seq::SliceRandom;\n",
    "use rand::thread_rng;\n",
    "\n",
    "fn typoglycemia(plaintext: String) -> String {\n",
    "    plaintext\n",
    "        .split_whitespace()\n",
    "        .map(|word|\n",
    "            if word.len() > 4 {\n",
    "                let mut rng = thread_rng();\n",
    "                let mut chars = word.chars().collect::<Vec<char>>();\n",
    "                let mut mid = &mut chars[1..(word.len()-1)];\n",
    "                mid.shuffle(&mut rng);\n",
    "                \n",
    "                chars.into_iter().collect::<String>()\n",
    "            } else { word.to_string() })\n",
    "        .collect::<Vec<String>>()\n",
    "        .join(\" \")\n",
    "}\n",
    "\n",
    "let sentence: &str = \"I couldn't believe that I could actually understand what I was reading : the phenomenal power of the human mind .\";\n",
    "typoglycemia(sentence.to_string())"
   ]
  },
  {
   "cell_type": "code",
   "execution_count": null,
   "id": "91fb098f-4a8d-4f36-ae15-21d0296083b1",
   "metadata": {},
   "outputs": [],
   "source": []
  }
 ],
 "metadata": {
  "kernelspec": {
   "display_name": "Rust",
   "language": "rust",
   "name": "rust"
  },
  "language_info": {
   "codemirror_mode": "rust",
   "file_extension": ".rs",
   "mimetype": "text/rust",
   "name": "Rust",
   "pygment_lexer": "rust",
   "version": ""
  }
 },
 "nbformat": 4,
 "nbformat_minor": 5
}
