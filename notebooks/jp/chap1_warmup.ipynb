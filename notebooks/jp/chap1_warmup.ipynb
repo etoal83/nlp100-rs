{
 "cells": [
  {
   "cell_type": "markdown",
   "id": "aada93ed-6ab0-48f6-b735-915b2c5a93e7",
   "metadata": {},
   "source": [
    "# 第1章: 準備運動"
   ]
  },
  {
   "cell_type": "markdown",
   "id": "6ab3281a-88db-473f-8ca5-9105bdb38b0b",
   "metadata": {},
   "source": [
    "## 00. 文字列の逆順\n",
    "\n",
    "文字列”stressed”の文字を逆に（末尾から先頭に向かって）並べた文字列を得よ．"
   ]
  },
  {
   "cell_type": "code",
   "execution_count": 2,
   "id": "3733d8cc-a24f-46f0-8a29-53aaf3d91c0f",
   "metadata": {},
   "outputs": [
    {
     "data": {
      "text/plain": [
       "\"desserts\""
      ]
     },
     "execution_count": 2,
     "metadata": {},
     "output_type": "execute_result"
    }
   ],
   "source": [
    "let s = \"stressed\".chars().rev().collect::<String>();\n",
    "s"
   ]
  },
  {
   "cell_type": "markdown",
   "id": "c6b6181f-8ef4-4b3c-bfd5-63b0167ec145",
   "metadata": {},
   "source": [
    "## 01. 「パタトクカシーー」\n",
    "\n",
    "「パタトクカシーー」という文字列の1,3,5,7文字目を取り出して連結した文字列を得よ．"
   ]
  },
  {
   "cell_type": "code",
   "execution_count": 3,
   "id": "04ddf750-56cc-4ee2-b4d4-4af30c8770f1",
   "metadata": {},
   "outputs": [
    {
     "data": {
      "text/plain": [
       "\"パトカー\""
      ]
     },
     "execution_count": 3,
     "metadata": {},
     "output_type": "execute_result"
    }
   ],
   "source": [
    "let s = \"パタトクカシーー\".chars().step_by(2).collect::<String>();\n",
    "s"
   ]
  },
  {
   "cell_type": "markdown",
   "id": "d480f6e9-e27f-47b0-a44d-697fbeaadd5d",
   "metadata": {},
   "source": [
    "## 02. 「パトカー」＋「タクシー」＝「パタトクカシーー」\n",
    "\n",
    "「パトカー」＋「タクシー」の文字を先頭から交互に連結して文字列「パタトクカシーー」を得よ．"
   ]
  },
  {
   "cell_type": "code",
   "execution_count": 4,
   "id": "a5d4d9f8-dbe2-4f3f-9658-25aea453f0be",
   "metadata": {},
   "outputs": [
    {
     "data": {
      "text/plain": [
       "\"パタトクカシーー\""
      ]
     },
     "execution_count": 4,
     "metadata": {},
     "output_type": "execute_result"
    }
   ],
   "source": [
    "let s = \"パトカー\".chars()\n",
    "    .zip(\"タクシー\".chars())\n",
    "    .map(|(p, t)| format!(\"{}{}\", p, t))\n",
    "    .collect::<String>();\n",
    "s"
   ]
  },
  {
   "cell_type": "markdown",
   "id": "5a6dce14-bfb3-4ec7-9ed8-2153015e0436",
   "metadata": {},
   "source": [
    "## 03. 円周率\n",
    "\n",
    "“Now I need a drink, alcoholic of course, after the heavy lectures involving quantum mechanics.”という文を単語に分解し，各単語の（アルファベットの）文字数を先頭から出現順に並べたリストを作成せよ．"
   ]
  },
  {
   "cell_type": "code",
   "execution_count": 5,
   "id": "de97bcec-8698-4f2f-ab49-964c374f8ccc",
   "metadata": {},
   "outputs": [
    {
     "data": {
      "text/plain": [
       "[3, 1, 4, 1, 5, 9, 2, 6, 5, 3, 5, 8, 9, 7, 9]"
      ]
     },
     "execution_count": 5,
     "metadata": {},
     "output_type": "execute_result"
    }
   ],
   "source": [
    "let sentence = \"Now I need a drink, alcoholic of course, after the heavy lectures involving quantum mechanics.\";\n",
    "\n",
    "let l = sentence\n",
    "    .split_whitespace()\n",
    "    .map(|word| word.chars().filter(|c| c.is_alphanumeric()).count())\n",
    "    .collect::<Vec<usize>>();\n",
    "l"
   ]
  },
  {
   "cell_type": "markdown",
   "id": "9f9030ba-2061-412d-b65d-6b956674d131",
   "metadata": {},
   "source": [
    "## 04. 元素記号\n",
    "\n",
    "“Hi He Lied Because Boron Could Not Oxidize Fluorine. New Nations Might Also Sign Peace Security Clause. Arthur King Can.”という文を単語に分解し，1, 5, 6, 7, 8, 9, 15, 16, 19番目の単語は先頭の1文字，それ以外の単語は先頭の2文字を取り出し，取り出した文字列から単語の位置（先頭から何番目の単語か）への連想配列（辞書型もしくはマップ型）を作成せよ．"
   ]
  },
  {
   "cell_type": "code",
   "execution_count": 6,
   "id": "b8e46e3b-873b-4b5d-aeb7-afff97d2d87f",
   "metadata": {},
   "outputs": [
    {
     "data": {
      "text/plain": [
       "{\"Bo\": 4, \"C\": 19, \"Hi\": 0, \"H\": 1, \"Mi\": 11, \"Ki\": 18, \"Al\": 12, \"N\": 9, \"F\": 8, \"Pe\": 14, \"O\": 7, \"Li\": 2, \"Be\": 3, \"S\": 15, \"Ar\": 17, \"Na\": 10, \"Si\": 13}"
      ]
     },
     "execution_count": 6,
     "metadata": {},
     "output_type": "execute_result"
    }
   ],
   "source": [
    "use std::collections::HashMap;\n",
    "\n",
    "let sentence = \"Hi He Lied Because Boron Could Not Oxidize Fluorine. New Nations Might Also Sign Peace Security Clause. Arthur King Can.\";\n",
    "let idx = vec![1, 5, 6, 7, 8, 9, 15, 16, 19];\n",
    "\n",
    "let m = sentence\n",
    "    .split_whitespace()\n",
    "    .enumerate()\n",
    "    .map(|(i, w)| (w.chars().take(if idx.contains(&i) { 1 } else { 2 }).collect::<String>(), i))\n",
    "    .collect::<HashMap<String, usize>>();\n",
    "m"
   ]
  },
  {
   "cell_type": "markdown",
   "id": "4ee66233-b537-4146-aaac-259612717fea",
   "metadata": {},
   "source": [
    "## 05. n-gram\n",
    "\n",
    "与えられたシーケンス（文字列やリストなど）からn-gramを作る関数を作成せよ．この関数を用い，”I am an NLPer”という文から単語bi-gram，文字bi-gramを得よ．"
   ]
  },
  {
   "cell_type": "code",
   "execution_count": 7,
   "id": "16e336ee-fa47-4e36-b63b-a9f5ff211f86",
   "metadata": {},
   "outputs": [],
   "source": [
    "// WIP"
   ]
  },
  {
   "cell_type": "code",
   "execution_count": null,
   "id": "bd2a743c-b485-4474-9061-00d188324720",
   "metadata": {},
   "outputs": [],
   "source": []
  }
 ],
 "metadata": {
  "kernelspec": {
   "display_name": "Rust",
   "language": "rust",
   "name": "rust"
  },
  "language_info": {
   "codemirror_mode": "rust",
   "file_extension": ".rs",
   "mimetype": "text/rust",
   "name": "Rust",
   "pygment_lexer": "rust",
   "version": ""
  }
 },
 "nbformat": 4,
 "nbformat_minor": 5
}
