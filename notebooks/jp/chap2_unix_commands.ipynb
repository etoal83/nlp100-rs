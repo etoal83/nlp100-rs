{
 "cells": [
  {
   "cell_type": "markdown",
   "id": "69a119b0-2cf4-48d2-bb89-cf131be63b6b",
   "metadata": {},
   "source": [
    "# 第2章: UNIXコマンド\n",
    "\n",
    "`popular-names.txt` は，アメリカで生まれた赤ちゃんの「名前」「性別」「人数」「年」をタブ区切り形式で格納したファイルである．以下の処理を行うプログラムを作成し，`popular-names.txt`を入力ファイルとして実行せよ．さらに，同様の処理をUNIXコマンドでも実行し，プログラムの実行結果を確認せよ．"
   ]
  },
  {
   "cell_type": "markdown",
   "id": "eccddfb6-c182-479f-af5e-3932072c0426",
   "metadata": {},
   "source": [
    "## 10. 行数のカウント\n",
    "\n",
    "行数をカウントせよ．確認にはwcコマンドを用いよ．"
   ]
  },
  {
   "cell_type": "code",
   "execution_count": 1,
   "id": "bbe5852a-8d5e-441f-a9a9-bcd7419c415f",
   "metadata": {},
   "outputs": [
    {
     "name": "stdout",
     "output_type": "stream",
     "text": [
      "2780 ../../data/popular-names.txt\n"
     ]
    }
   ],
   "source": [
    "!wc -l ../../data/popular-names.txt"
   ]
  },
  {
   "cell_type": "markdown",
   "id": "e4e9d70d-f533-40bb-a47e-ac9adb5450cd",
   "metadata": {},
   "source": [
    "## 11. タブをスペースに置換\n",
    "\n",
    "タブ1文字につきスペース1文字に置換せよ．確認にはsedコマンド，trコマンド，もしくはexpandコマンドを用いよ．"
   ]
  },
  {
   "cell_type": "code",
   "execution_count": 2,
   "id": "a2217487-0082-44e0-acb9-14b9807f265f",
   "metadata": {},
   "outputs": [
    {
     "name": "stdout",
     "output_type": "stream",
     "text": [
      "Mary F 7065 1880\n",
      "Anna F 2604 1880\n",
      "Emma F 2003 1880\n",
      "Elizabeth F 1939 1880\n",
      "Minnie F 1746 1880\n",
      "Margaret F 1578 1880\n",
      "Ida F 1472 1880\n",
      "Alice F 1414 1880\n",
      "Bertha F 1320 1880\n",
      "Sarah F 1288 1880\n",
      "sed: couldn't write 18 items to stdout: Broken pipe\n"
     ]
    }
   ],
   "source": [
    "!sed -e 's/\\t/ /g' ../../data/popular-names.txt | head -n 10"
   ]
  },
  {
   "cell_type": "code",
   "execution_count": 3,
   "id": "69dca834-72f0-42fb-97c0-54876a33ad01",
   "metadata": {},
   "outputs": [
    {
     "name": "stdout",
     "output_type": "stream",
     "text": [
      "Mary F 7065 1880\n",
      "Anna F 2604 1880\n",
      "Emma F 2003 1880\n",
      "Elizabeth F 1939 1880\n",
      "Minnie F 1746 1880\n",
      "Margaret F 1578 1880\n",
      "Ida F 1472 1880\n",
      "Alice F 1414 1880\n",
      "Bertha F 1320 1880\n",
      "Sarah F 1288 1880\n"
     ]
    }
   ],
   "source": [
    "!tr '\\t' ' ' < ../../data/popular-names.txt | head -n 10"
   ]
  },
  {
   "cell_type": "code",
   "execution_count": 4,
   "id": "1eb9f957-f1c6-4c1b-86a1-3d1dba330147",
   "metadata": {},
   "outputs": [
    {
     "name": "stdout",
     "output_type": "stream",
     "text": [
      "Mary F 7065 1880\n",
      "Anna F 2604 1880\n",
      "Emma F 2003 1880\n",
      "Elizabeth F 1939 1880\n",
      "Minnie F 1746 1880\n",
      "Margaret F 1578 1880\n",
      "Ida F 1472 1880\n",
      "Alice F 1414 1880\n",
      "Bertha F 1320 1880\n",
      "Sarah F 1288 1880\n",
      "expand: write error: Broken pipe\n",
      "expand: write error\n"
     ]
    }
   ],
   "source": [
    "!expand -t 1 ../../data/popular-names.txt | head -n 10"
   ]
  },
  {
   "cell_type": "markdown",
   "id": "35a40639-3c64-4b57-9aad-5bd26910d468",
   "metadata": {},
   "source": [
    "## 12. 1列目をcol1.txtに，2列目をcol2.txtに保存\n",
    "\n",
    "各行の1列目だけを抜き出したものをcol1.txtに，2列目だけを抜き出したものをcol2.txtとしてファイルに保存せよ．確認にはcutコマンドを用いよ．"
   ]
  },
  {
   "cell_type": "code",
   "execution_count": 5,
   "id": "d881bc2d-17fc-4cb3-9f87-3bea621d6dd7",
   "metadata": {},
   "outputs": [],
   "source": [
    "!cut -f 1 ../../data/popular-names.txt > ../../outputs/col1.txt"
   ]
  },
  {
   "cell_type": "code",
   "execution_count": 6,
   "id": "65e80947-a4ac-44f4-a042-a4cd5dea07d9",
   "metadata": {},
   "outputs": [],
   "source": [
    "!cut -f 2 ../../data/popular-names.txt > ../../outputs/col2.txt"
   ]
  },
  {
   "cell_type": "code",
   "execution_count": 7,
   "id": "85077a0c-d3ad-4e3a-bd43-eccdc3f7ea17",
   "metadata": {},
   "outputs": [
    {
     "name": "stdout",
     "output_type": "stream",
     "text": [
      "Mary\n",
      "Anna\n",
      "Emma\n",
      "Elizabeth\n",
      "Minnie\n",
      "Margaret\n",
      "Ida\n",
      "Alice\n",
      "Bertha\n",
      "Sarah\n",
      "cut: write error: Broken pipe\n"
     ]
    }
   ],
   "source": [
    "## Check\n",
    "!cut -f 1 ../../outputs/col1.txt | head -n 10"
   ]
  },
  {
   "cell_type": "code",
   "execution_count": 8,
   "id": "567500dd-4a74-4e91-b6d9-5029ab31f252",
   "metadata": {},
   "outputs": [
    {
     "name": "stdout",
     "output_type": "stream",
     "text": [
      "F\n",
      "F\n",
      "F\n",
      "F\n",
      "F\n",
      "F\n",
      "F\n",
      "F\n",
      "F\n",
      "F\n"
     ]
    }
   ],
   "source": [
    "## Check\n",
    "!cut -f 1 ../../outputs/col2.txt | head -n 10"
   ]
  },
  {
   "cell_type": "markdown",
   "id": "d9703066-79a1-44c5-b612-ace92e917169",
   "metadata": {},
   "source": [
    "## 13. col1.txtとcol2.txtをマージ\n",
    "\n",
    "12で作ったcol1.txtとcol2.txtを結合し，元のファイルの1列目と2列目をタブ区切りで並べたテキストファイルを作成せよ．確認にはpasteコマンドを用いよ．"
   ]
  },
  {
   "cell_type": "code",
   "execution_count": 9,
   "id": "4e840daf-8fa0-4ed4-9749-a926b769281a",
   "metadata": {},
   "outputs": [
    {
     "name": "stdout",
     "output_type": "stream",
     "text": [
      "Mary\tF\n",
      "Anna\tF\n",
      "Emma\tF\n",
      "Elizabeth\tF\n",
      "Minnie\tF\n",
      "Margaret\tF\n",
      "Ida\tF\n",
      "Alice\tF\n",
      "Bertha\tF\n",
      "Sarah\tF\n"
     ]
    }
   ],
   "source": [
    "!paste ../../outputs/col1.txt ../../outputs/col2.txt | head -n 10"
   ]
  },
  {
   "cell_type": "markdown",
   "id": "67e2761b-88d6-4844-9b20-4a658166c923",
   "metadata": {},
   "source": [
    "## 14. 先頭からN行を出力\n",
    "\n",
    "自然数Nをコマンドライン引数などの手段で受け取り，入力のうち先頭のN行だけを表示せよ．確認にはheadコマンドを用いよ．"
   ]
  },
  {
   "cell_type": "code",
   "execution_count": 10,
   "id": "2fe95153-48b7-41c6-a37b-0fd146220adc",
   "metadata": {},
   "outputs": [
    {
     "name": "stdout",
     "output_type": "stream",
     "text": [
      "1\n",
      "2\n",
      "3\n",
      "4\n",
      "5\n",
      "6\n",
      "7\n",
      "8\n",
      "9\n",
      "10\n"
     ]
    }
   ],
   "source": [
    "!seq 1 100 | head -n 10"
   ]
  },
  {
   "cell_type": "markdown",
   "id": "9dda4828-3b12-4b0b-a42a-990d5d114837",
   "metadata": {},
   "source": [
    "## 15. 末尾のN行を出力\n",
    "\n",
    "自然数Nをコマンドライン引数などの手段で受け取り，入力のうち末尾のN行だけを表示せよ．確認にはtailコマンドを用いよ．"
   ]
  },
  {
   "cell_type": "code",
   "execution_count": 11,
   "id": "d7f46ff6-c13f-41a0-aa07-995389d3227d",
   "metadata": {},
   "outputs": [
    {
     "name": "stdout",
     "output_type": "stream",
     "text": [
      "91\n",
      "92\n",
      "93\n",
      "94\n",
      "95\n",
      "96\n",
      "97\n",
      "98\n",
      "99\n",
      "100\n"
     ]
    }
   ],
   "source": [
    "!seq 1 100 | tail -n 10"
   ]
  },
  {
   "cell_type": "markdown",
   "id": "44f3bedb-8d57-4178-a8c5-22e08b5bf09f",
   "metadata": {},
   "source": [
    "## 16. ファイルをN分割する\n",
    "\n",
    "自然数Nをコマンドライン引数などの手段で受け取り，入力のファイルを行単位でN分割せよ．同様の処理をsplitコマンドで実現せよ．"
   ]
  },
  {
   "cell_type": "code",
   "execution_count": 12,
   "id": "7d88fe2d-d2b0-480c-8bcd-198420ec38a6",
   "metadata": {},
   "outputs": [],
   "source": [
    "!seq 1 30 > ../../outputs/seq.txt"
   ]
  },
  {
   "cell_type": "code",
   "execution_count": 13,
   "id": "2324dba6-9afb-4bde-b6bf-804444a30948",
   "metadata": {},
   "outputs": [],
   "source": [
    "!split -l 10 ../../outputs/seq.txt ../../outputs/seq_"
   ]
  },
  {
   "cell_type": "markdown",
   "id": "708b737c-d7df-4fbb-bc71-92ffebb4d2c0",
   "metadata": {},
   "source": [
    "## 17. １列目の文字列の異なり\n",
    "\n",
    "1列目の文字列の種類（異なる文字列の集合）を求めよ．確認にはcut, sort, uniqコマンドを用いよ．"
   ]
  },
  {
   "cell_type": "code",
   "execution_count": 14,
   "id": "5be05541-1ec3-400f-b5f2-c7967ccc2e01",
   "metadata": {},
   "outputs": [
    {
     "name": "stdout",
     "output_type": "stream",
     "text": [
      "Abigail\n",
      "Aiden\n",
      "Alexander\n",
      "Alexis\n",
      "Alice\n",
      "Amanda\n",
      "Amelia\n",
      "Amy\n",
      "Andrew\n",
      "Angela\n",
      "Anna\n",
      "Annie\n",
      "Anthony\n",
      "Ashley\n",
      "Austin\n",
      "Ava\n",
      "Barbara\n",
      "Benjamin\n",
      "Bertha\n",
      "Bessie\n",
      "Betty\n",
      "Brandon\n",
      "Brian\n",
      "Brittany\n",
      "Carol\n",
      "Carolyn\n",
      "Charles\n",
      "Charlotte\n",
      "Chloe\n",
      "Christopher\n",
      "Clara\n",
      "Crystal\n",
      "Cynthia\n",
      "Daniel\n",
      "David\n",
      "Deborah\n",
      "Debra\n",
      "Donald\n",
      "Donna\n",
      "Doris\n",
      "Dorothy\n",
      "Edward\n",
      "Elijah\n",
      "Elizabeth\n",
      "Emily\n",
      "Emma\n",
      "Ethan\n",
      "Ethel\n",
      "Evelyn\n",
      "Florence\n",
      "Frances\n",
      "Frank\n",
      "Gary\n",
      "George\n",
      "Hannah\n",
      "Harper\n",
      "Harry\n",
      "Heather\n",
      "Helen\n",
      "Henry\n",
      "Ida\n",
      "Isabella\n",
      "Jacob\n",
      "James\n",
      "Jason\n",
      "Jayden\n",
      "Jeffrey\n",
      "Jennifer\n",
      "Jessica\n",
      "Joan\n",
      "John\n",
      "Joseph\n",
      "Joshua\n",
      "Judith\n",
      "Julie\n",
      "Justin\n",
      "Karen\n",
      "Kathleen\n",
      "Kelly\n",
      "Kimberly\n",
      "Larry\n",
      "Laura\n",
      "Lauren\n",
      "Liam\n",
      "Lillian\n",
      "Linda\n",
      "Lisa\n",
      "Logan\n",
      "Lori\n",
      "Lucas\n",
      "Madison\n",
      "Margaret\n",
      "Marie\n",
      "Mark\n",
      "Mary\n",
      "Mason\n",
      "Matthew\n",
      "Megan\n",
      "Melissa\n",
      "Mia\n",
      "Michael\n",
      "Michelle\n",
      "Mildred\n",
      "Minnie\n",
      "Nancy\n",
      "Nicholas\n",
      "Nicole\n",
      "Noah\n",
      "Oliver\n",
      "Olivia\n",
      "Pamela\n",
      "Patricia\n",
      "Rachel\n",
      "Rebecca\n",
      "Richard\n",
      "Robert\n",
      "Ronald\n",
      "Ruth\n",
      "Samantha\n",
      "Sandra\n",
      "Sarah\n",
      "Scott\n",
      "Sharon\n",
      "Shirley\n",
      "Sophia\n",
      "Stephanie\n",
      "Steven\n",
      "Susan\n",
      "Tammy\n",
      "Taylor\n",
      "Thomas\n",
      "Tracy\n",
      "Tyler\n",
      "Virginia\n",
      "Walter\n",
      "William\n"
     ]
    }
   ],
   "source": [
    "!cut -f 1 ../../data/popular-names.txt | sort | uniq"
   ]
  },
  {
   "cell_type": "markdown",
   "id": "8e799035-57ca-4941-af73-440420d8e9c4",
   "metadata": {},
   "source": [
    "## 18. 各行を3コラム目の数値の降順にソート\n",
    "\n",
    "各行を3コラム目の数値の逆順で整列せよ（注意: 各行の内容は変更せずに並び替えよ）．確認にはsortコマンドを用いよ（この問題はコマンドで実行した時の結果と合わなくてもよい）．"
   ]
  },
  {
   "cell_type": "code",
   "execution_count": 15,
   "id": "1fa43bc0-f9c2-4509-b165-776b4896d10a",
   "metadata": {},
   "outputs": [
    {
     "name": "stdout",
     "output_type": "stream",
     "text": [
      "Abigail\tF\t10607\t2017\n",
      "Abigail\tF\t11760\t2016\n",
      "Abigail\tF\t12085\t2014\n",
      "Abigail\tF\t12401\t2015\n",
      "Abigail\tF\t12409\t2013\n",
      "Abigail\tF\t12700\t2012\n",
      "Abigail\tF\t13248\t2011\n",
      "Abigail\tF\t14247\t2010\n",
      "Abigail\tF\t14390\t2009\n",
      "Abigail\tF\t14807\t2001\n",
      "Abigail\tF\t15082\t2008\n",
      "Abigail\tF\t15298\t2002\n",
      "Abigail\tF\t15426\t2004\n",
      "Abigail\tF\t15470\t2007\n",
      "Abigail\tF\t15628\t2006\n",
      "Abigail\tF\t15749\t2005\n",
      "Abigail\tF\t15928\t2003\n",
      "Aiden\tM\t14903\t2012\n",
      "Aiden\tM\t15496\t2011\n",
      "Aiden\tM\t15538\t2010\n",
      "Alexander\tM\t14547\t2015\n",
      "Alexander\tM\t14905\t2013\n",
      "Alexander\tM\t15237\t2012\n",
      "Alexander\tM\t15414\t2014\n",
      "Alexander\tM\t15702\t2011\n",
      "Alexander\tM\t16756\t2010\n",
      "Alexander\tM\t18234\t2009\n",
      "Alexander\tM\t18697\t2008\n",
      "Alexis\tF\t14867\t2003\n",
      "Alexis\tF\t15636\t2002\n",
      "sort: write failed: 'standard output': Broken pipe\n",
      "sort: write error\n"
     ]
    }
   ],
   "source": [
    "!sort -n -r -k 3,3 ../../data/popular-names.txt | sort | head -n 30"
   ]
  },
  {
   "cell_type": "markdown",
   "id": "38043e92-c15e-4a0d-a91f-0feb6a381d6d",
   "metadata": {},
   "source": [
    "## 19. 各行の1コラム目の文字列の出現頻度を求め，出現頻度の高い順に並べる\n",
    "\n",
    "各行の1列目の文字列の出現頻度を求め，その高い順に並べて表示せよ．確認にはcut, uniq, sortコマンドを用いよ．"
   ]
  },
  {
   "cell_type": "code",
   "execution_count": 16,
   "id": "5ab08a41-93fb-453c-a603-224b73c90c25",
   "metadata": {},
   "outputs": [
    {
     "name": "stdout",
     "output_type": "stream",
     "text": [
      "    118 James\n",
      "    111 William\n",
      "    108 Robert\n",
      "    108 John\n",
      "     92 Mary\n",
      "     75 Charles\n",
      "     74 Michael\n",
      "     73 Elizabeth\n",
      "     70 Joseph\n",
      "     60 Margaret\n",
      "     58 Thomas\n",
      "     58 George\n",
      "     57 David\n",
      "     51 Richard\n",
      "     45 Helen\n",
      "     43 Frank\n",
      "     43 Christopher\n",
      "     41 Anna\n",
      "     40 Edward\n",
      "     39 Ruth\n",
      "     38 Patricia\n",
      "     37 Matthew\n",
      "     36 Dorothy\n",
      "     35 Emma\n",
      "     32 Barbara\n",
      "     31 Joshua\n",
      "     31 Daniel\n",
      "     26 Sarah\n",
      "     26 Linda\n",
      "     26 Jennifer\n",
      "     26 Emily\n",
      "     25 Jessica\n",
      "     25 Jacob\n",
      "     24 Susan\n",
      "     24 Mildred\n",
      "     24 Betty\n",
      "     23 Henry\n",
      "     23 Ashley\n",
      "     22 Nancy\n",
      "     21 Andrew\n",
      "     20 Marie\n",
      "     20 Florence\n",
      "     20 Donald\n",
      "     20 Amanda\n",
      "     19 Samantha\n",
      "     18 Olivia\n",
      "     18 Melissa\n",
      "     18 Madison\n",
      "     18 Lisa\n",
      "     18 Karen\n",
      "     17 Stephanie\n",
      "     17 Abigail\n",
      "     16 Sandra\n",
      "     16 Mark\n",
      "     16 Ethel\n",
      "     15 Michelle\n",
      "     15 Isabella\n",
      "     15 Heather\n",
      "     15 Frances\n",
      "     15 Ethan\n",
      "     15 Carol\n",
      "     15 Angela\n",
      "     14 Shirley\n",
      "     14 Kimberly\n",
      "     14 Ava\n",
      "     14 Amy\n",
      "     13 Virginia\n",
      "     13 Sophia\n",
      "     13 Nicole\n",
      "     13 Jason\n",
      "     13 Hannah\n",
      "     13 Deborah\n",
      "     13 Brian\n",
      "     12 Minnie\n",
      "     12 Donna\n",
      "     12 Bertha\n",
      "     11 Cynthia\n",
      "     10 Ronald\n",
      "     10 Noah\n",
      "     10 Nicholas\n",
      "     10 Mia\n",
      "     10 Doris\n",
      "     10 Brittany\n",
      "     10 Alice\n",
      "      9 Tyler\n",
      "      9 Joan\n",
      "      9 Debra\n",
      "      8 Taylor\n",
      "      8 Mason\n",
      "      8 Judith\n",
      "      8 Ida\n",
      "      8 Clara\n",
      "      8 Alexis\n",
      "      8 Alexander\n",
      "      7 Tammy\n",
      "      7 Steven\n",
      "      7 Sharon\n",
      "      7 Liam\n",
      "      7 Harry\n",
      "      7 Brandon\n",
      "      6 Anthony\n",
      "      5 Jeffrey\n",
      "      5 Jayden\n",
      "      5 Gary\n",
      "      5 Charlotte\n",
      "      5 Annie\n",
      "      4 Lillian\n",
      "      4 Kathleen\n",
      "      4 Justin\n",
      "      4 Chloe\n",
      "      4 Benjamin\n",
      "      4 Austin\n",
      "      3 Megan\n",
      "      3 Harper\n",
      "      3 Evelyn\n",
      "      3 Elijah\n",
      "      3 Aiden\n",
      "      2 Rebecca\n",
      "      2 Oliver\n",
      "      2 Logan\n",
      "      2 Lauren\n",
      "      2 Larry\n",
      "      2 Bessie\n",
      "      2 Amelia\n",
      "      1 Walter\n",
      "      1 Tracy\n",
      "      1 Scott\n",
      "      1 Rachel\n",
      "      1 Pamela\n",
      "      1 Lucas\n",
      "      1 Lori\n",
      "      1 Laura\n",
      "      1 Kelly\n",
      "      1 Julie\n",
      "      1 Crystal\n",
      "      1 Carolyn\n"
     ]
    }
   ],
   "source": [
    "!cut -f 1 ../../data/popular-names.txt | sort | uniq -c | sort -r"
   ]
  },
  {
   "cell_type": "code",
   "execution_count": null,
   "id": "ec805e09-0bdb-4a0e-a601-0eb8ca232137",
   "metadata": {},
   "outputs": [],
   "source": []
  }
 ],
 "metadata": {
  "kernelspec": {
   "display_name": "Python 3 (ipykernel)",
   "language": "python",
   "name": "python3"
  },
  "language_info": {
   "codemirror_mode": {
    "name": "ipython",
    "version": 3
   },
   "file_extension": ".py",
   "mimetype": "text/x-python",
   "name": "python",
   "nbconvert_exporter": "python",
   "pygments_lexer": "ipython3",
   "version": "3.7.7"
  }
 },
 "nbformat": 4,
 "nbformat_minor": 5
}
