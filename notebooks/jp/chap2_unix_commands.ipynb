{
 "cells": [
  {
   "cell_type": "markdown",
   "id": "69a119b0-2cf4-48d2-bb89-cf131be63b6b",
   "metadata": {},
   "source": [
    "# 第2章: UNIXコマンド\n",
    "\n",
    "`popular-names.txt` は，アメリカで生まれた赤ちゃんの「名前」「性別」「人数」「年」をタブ区切り形式で格納したファイルである．以下の処理を行うプログラムを作成し，`popular-names.txt`を入力ファイルとして実行せよ．さらに，同様の処理をUNIXコマンドでも実行し，プログラムの実行結果を確認せよ．"
   ]
  },
  {
   "cell_type": "markdown",
   "id": "eccddfb6-c182-479f-af5e-3932072c0426",
   "metadata": {},
   "source": [
    "## 10. 行数のカウント\n",
    "\n",
    "行数をカウントせよ．確認にはwcコマンドを用いよ．"
   ]
  },
  {
   "cell_type": "code",
   "execution_count": 1,
   "id": "bbe5852a-8d5e-441f-a9a9-bcd7419c415f",
   "metadata": {},
   "outputs": [
    {
     "name": "stdout",
     "output_type": "stream",
     "text": [
      "2780 ../../data/popular-names.txt\n"
     ]
    }
   ],
   "source": [
    "!wc -l ../../data/popular-names.txt"
   ]
  },
  {
   "cell_type": "markdown",
   "id": "e4e9d70d-f533-40bb-a47e-ac9adb5450cd",
   "metadata": {},
   "source": [
    "## 11. タブをスペースに置換\n",
    "\n",
    "タブ1文字につきスペース1文字に置換せよ．確認にはsedコマンド，trコマンド，もしくはexpandコマンドを用いよ．"
   ]
  },
  {
   "cell_type": "code",
   "execution_count": 2,
   "id": "a2217487-0082-44e0-acb9-14b9807f265f",
   "metadata": {},
   "outputs": [
    {
     "name": "stdout",
     "output_type": "stream",
     "text": [
      "Mary F 7065 1880\n",
      "Anna F 2604 1880\n",
      "Emma F 2003 1880\n",
      "Elizabeth F 1939 1880\n",
      "Minnie F 1746 1880\n",
      "Margaret F 1578 1880\n",
      "Ida F 1472 1880\n",
      "Alice F 1414 1880\n",
      "Bertha F 1320 1880\n",
      "Sarah F 1288 1880\n",
      "sed: couldn't write 17 items to stdout: Broken pipe\n"
     ]
    }
   ],
   "source": [
    "!sed -e 's/\\t/ /g' ../../data/popular-names.txt | head -n 10"
   ]
  },
  {
   "cell_type": "code",
   "execution_count": 3,
   "id": "69dca834-72f0-42fb-97c0-54876a33ad01",
   "metadata": {},
   "outputs": [
    {
     "name": "stdout",
     "output_type": "stream",
     "text": [
      "Mary F 7065 1880\n",
      "Anna F 2604 1880\n",
      "Emma F 2003 1880\n",
      "Elizabeth F 1939 1880\n",
      "Minnie F 1746 1880\n",
      "Margaret F 1578 1880\n",
      "Ida F 1472 1880\n",
      "Alice F 1414 1880\n",
      "Bertha F 1320 1880\n",
      "Sarah F 1288 1880\n"
     ]
    }
   ],
   "source": [
    "!tr '\\t' ' ' < ../../data/popular-names.txt | head -n 10"
   ]
  },
  {
   "cell_type": "code",
   "execution_count": 4,
   "id": "1eb9f957-f1c6-4c1b-86a1-3d1dba330147",
   "metadata": {},
   "outputs": [
    {
     "name": "stdout",
     "output_type": "stream",
     "text": [
      "Mary F 7065 1880\n",
      "Anna F 2604 1880\n",
      "Emma F 2003 1880\n",
      "Elizabeth F 1939 1880\n",
      "Minnie F 1746 1880\n",
      "Margaret F 1578 1880\n",
      "Ida F 1472 1880\n",
      "Alice F 1414 1880\n",
      "Bertha F 1320 1880\n",
      "Sarah F 1288 1880\n",
      "expand: write error: Broken pipe\n",
      "expand: write error\n"
     ]
    }
   ],
   "source": [
    "!expand -t 1 ../../data/popular-names.txt | head -n 10"
   ]
  },
  {
   "cell_type": "markdown",
   "id": "35a40639-3c64-4b57-9aad-5bd26910d468",
   "metadata": {},
   "source": [
    "## 12. 1列目をcol1.txtに，2列目をcol2.txtに保存\n",
    "\n",
    "各行の1列目だけを抜き出したものをcol1.txtに，2列目だけを抜き出したものをcol2.txtとしてファイルに保存せよ．確認にはcutコマンドを用いよ．"
   ]
  },
  {
   "cell_type": "code",
   "execution_count": 5,
   "id": "d881bc2d-17fc-4cb3-9f87-3bea621d6dd7",
   "metadata": {},
   "outputs": [],
   "source": [
    "!cut -f 1 ../../data/popular-names.txt > ../../outputs/col1.txt"
   ]
  },
  {
   "cell_type": "code",
   "execution_count": 6,
   "id": "65e80947-a4ac-44f4-a042-a4cd5dea07d9",
   "metadata": {},
   "outputs": [],
   "source": [
    "!cut -f 2 ../../data/popular-names.txt > ../../outputs/col2.txt"
   ]
  },
  {
   "cell_type": "code",
   "execution_count": 7,
   "id": "85077a0c-d3ad-4e3a-bd43-eccdc3f7ea17",
   "metadata": {},
   "outputs": [
    {
     "name": "stdout",
     "output_type": "stream",
     "text": [
      "Mary\n",
      "Anna\n",
      "Emma\n",
      "Elizabeth\n",
      "Minnie\n",
      "Margaret\n",
      "Ida\n",
      "Alice\n",
      "Bertha\n",
      "Sarah\n",
      "cut: write error: Broken pipe\n"
     ]
    }
   ],
   "source": [
    "## Check\n",
    "!cut -f 1 ../../outputs/col1.txt | head -n 10"
   ]
  },
  {
   "cell_type": "code",
   "execution_count": 8,
   "id": "567500dd-4a74-4e91-b6d9-5029ab31f252",
   "metadata": {},
   "outputs": [
    {
     "name": "stdout",
     "output_type": "stream",
     "text": [
      "F\n",
      "F\n",
      "F\n",
      "F\n",
      "F\n",
      "F\n",
      "F\n",
      "F\n",
      "F\n",
      "F\n"
     ]
    }
   ],
   "source": [
    "## Check\n",
    "!cut -f 1 ../../outputs/col2.txt | head -n 10"
   ]
  },
  {
   "cell_type": "markdown",
   "id": "d9703066-79a1-44c5-b612-ace92e917169",
   "metadata": {},
   "source": [
    "## 13. col1.txtとcol2.txtをマージ\n",
    "\n",
    "12で作ったcol1.txtとcol2.txtを結合し，元のファイルの1列目と2列目をタブ区切りで並べたテキストファイルを作成せよ．確認にはpasteコマンドを用いよ．"
   ]
  },
  {
   "cell_type": "code",
   "execution_count": 9,
   "id": "4e840daf-8fa0-4ed4-9749-a926b769281a",
   "metadata": {},
   "outputs": [
    {
     "name": "stdout",
     "output_type": "stream",
     "text": [
      "Mary\tF\n",
      "Anna\tF\n",
      "Emma\tF\n",
      "Elizabeth\tF\n",
      "Minnie\tF\n",
      "Margaret\tF\n",
      "Ida\tF\n",
      "Alice\tF\n",
      "Bertha\tF\n",
      "Sarah\tF\n",
      "paste: write error: Broken pipe\n"
     ]
    }
   ],
   "source": [
    "!paste ../../outputs/col1.txt ../../outputs/col2.txt | head -n 10"
   ]
  },
  {
   "cell_type": "markdown",
   "id": "67e2761b-88d6-4844-9b20-4a658166c923",
   "metadata": {},
   "source": [
    "## 14. 先頭からN行を出力\n",
    "\n",
    "自然数Nをコマンドライン引数などの手段で受け取り，入力のうち先頭のN行だけを表示せよ．確認にはheadコマンドを用いよ．"
   ]
  },
  {
   "cell_type": "code",
   "execution_count": 10,
   "id": "2fe95153-48b7-41c6-a37b-0fd146220adc",
   "metadata": {},
   "outputs": [
    {
     "name": "stdout",
     "output_type": "stream",
     "text": [
      "1\n",
      "2\n",
      "3\n",
      "4\n",
      "5\n",
      "6\n",
      "7\n",
      "8\n",
      "9\n",
      "10\n"
     ]
    }
   ],
   "source": [
    "!seq 1 100 | head -n 10"
   ]
  },
  {
   "cell_type": "code",
   "execution_count": null,
   "id": "a87eb0a9-46d0-4eee-851b-9b8827767a40",
   "metadata": {},
   "outputs": [],
   "source": []
  }
 ],
 "metadata": {
  "kernelspec": {
   "display_name": "Python 3 (ipykernel)",
   "language": "python",
   "name": "python3"
  },
  "language_info": {
   "codemirror_mode": {
    "name": "ipython",
    "version": 3
   },
   "file_extension": ".py",
   "mimetype": "text/x-python",
   "name": "python",
   "nbconvert_exporter": "python",
   "pygments_lexer": "ipython3",
   "version": "3.7.7"
  }
 },
 "nbformat": 4,
 "nbformat_minor": 5
}
